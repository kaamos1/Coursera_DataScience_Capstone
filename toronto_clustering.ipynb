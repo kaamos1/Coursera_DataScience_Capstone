{
 "metadata": {
  "language_info": {
   "codemirror_mode": {
    "name": "ipython",
    "version": 3
   },
   "file_extension": ".py",
   "mimetype": "text/x-python",
   "name": "python",
   "nbconvert_exporter": "python",
   "pygments_lexer": "ipython3",
   "version": "3.6.9-final"
  },
  "orig_nbformat": 2,
  "kernelspec": {
   "name": "python3",
   "display_name": "Python 3.6.9 64-bit ('.venv': venv)",
   "metadata": {
    "interpreter": {
     "hash": "4552bc21594a54908a158f1e29ba2302380af30722b26603d29ca674cb196ead"
    }
   }
  }
 },
 "nbformat": 4,
 "nbformat_minor": 2,
 "cells": [
  {
   "source": [
    "# Setup / Package imports\n",
    "Lets get the necessary packages first :) We will need\n",
    "* requests to scrape the packages\n",
    "* pandas for the data handling"
   ],
   "cell_type": "markdown",
   "metadata": {}
  },
  {
   "cell_type": "code",
   "execution_count": 1,
   "metadata": {},
   "outputs": [],
   "source": [
    "import requests\n",
    "import pandas as pd\n",
    "import numpy as np\n"
   ]
  },
  {
   "source": [
    "# Getting the data ready\n",
    "## Read the webpage"
   ],
   "cell_type": "markdown",
   "metadata": {}
  },
  {
   "cell_type": "code",
   "execution_count": 2,
   "metadata": {},
   "outputs": [],
   "source": [
    "url = 'https://en.wikipedia.org/wiki/List_of_postal_codes_of_Canada:_M'\n",
    "html_data = requests.get(url).text"
   ]
  },
  {
   "source": [
    "##  Extract and prepare the dataframe\n",
    "This will be done by\n",
    "*  selecting only the relevant table\n",
    "* renaming the columns\n",
    "* dropping \"not assigned\" boroughs\n",
    "* checking that we do not have \"not assigned\" neighborhoods (which should be the case after dropping unassigned boroughs)"
   ],
   "cell_type": "markdown",
   "metadata": {}
  },
  {
   "cell_type": "code",
   "execution_count": 3,
   "metadata": {},
   "outputs": [
    {
     "output_type": "execute_result",
     "data": {
      "text/plain": [
       "  PostalCode           Borough                                 Neighborhood\n",
       "2        M3A        North York                                    Parkwoods\n",
       "3        M4A        North York                             Victoria Village\n",
       "4        M5A  Downtown Toronto                    Regent Park, Harbourfront\n",
       "5        M6A        North York             Lawrence Manor, Lawrence Heights\n",
       "6        M7A  Downtown Toronto  Queen's Park, Ontario Provincial Government"
      ],
      "text/html": "<div>\n<style scoped>\n    .dataframe tbody tr th:only-of-type {\n        vertical-align: middle;\n    }\n\n    .dataframe tbody tr th {\n        vertical-align: top;\n    }\n\n    .dataframe thead th {\n        text-align: right;\n    }\n</style>\n<table border=\"1\" class=\"dataframe\">\n  <thead>\n    <tr style=\"text-align: right;\">\n      <th></th>\n      <th>PostalCode</th>\n      <th>Borough</th>\n      <th>Neighborhood</th>\n    </tr>\n  </thead>\n  <tbody>\n    <tr>\n      <th>2</th>\n      <td>M3A</td>\n      <td>North York</td>\n      <td>Parkwoods</td>\n    </tr>\n    <tr>\n      <th>3</th>\n      <td>M4A</td>\n      <td>North York</td>\n      <td>Victoria Village</td>\n    </tr>\n    <tr>\n      <th>4</th>\n      <td>M5A</td>\n      <td>Downtown Toronto</td>\n      <td>Regent Park, Harbourfront</td>\n    </tr>\n    <tr>\n      <th>5</th>\n      <td>M6A</td>\n      <td>North York</td>\n      <td>Lawrence Manor, Lawrence Heights</td>\n    </tr>\n    <tr>\n      <th>6</th>\n      <td>M7A</td>\n      <td>Downtown Toronto</td>\n      <td>Queen's Park, Ontario Provincial Government</td>\n    </tr>\n  </tbody>\n</table>\n</div>"
     },
     "metadata": {},
     "execution_count": 3
    }
   ],
   "source": [
    "webpage_data = pd.read_html(html_data)\n",
    "# we are only interested in the first table\n",
    "df = webpage_data[0]\n",
    "# change to american english\n",
    "df.rename(columns={'Postal Code': 'PostalCode', 'Neighbourhood': 'Neighborhood'}, inplace=True)\n",
    "# drop unassigned boroughs\n",
    "df.drop(df[df.Borough == 'Not assigned'].index, inplace=True)\n",
    "# peek into the data\n",
    "df.head()"
   ]
  },
  {
   "cell_type": "code",
   "execution_count": 4,
   "metadata": {},
   "outputs": [
    {
     "output_type": "stream",
     "name": "stdout",
     "text": [
      "No unassigned neighborhoods. OK\n"
     ]
    }
   ],
   "source": [
    "#check if we have unassigned neighborhoods\n",
    "unassigned_neighborhoods = df.loc[df['Neighborhood'] == \"Not assigned\"]\n",
    "if(unassigned_neighborhoods.empty):\n",
    "    print('No unassigned neighborhoods. OK')\n",
    "else:\n",
    "    raise ValueError(\"There are {} unassigned neighborhood entries\".format(unassigned_neighborhoods.shape[0]))"
   ]
  },
  {
   "source": [
    "To finish the webscraping and data preparation, we will print out the total number of remaining rows of our dataframe"
   ],
   "cell_type": "markdown",
   "metadata": {}
  },
  {
   "cell_type": "code",
   "execution_count": 5,
   "metadata": {},
   "outputs": [
    {
     "output_type": "stream",
     "name": "stdout",
     "text": [
      "There are 103 rows in the prepared dataframe.\n"
     ]
    }
   ],
   "source": [
    "row_total = df.shape[0]\n",
    "print('There are {} rows in the prepared dataframe.'.format(row_total))"
   ]
  }
 ]
}